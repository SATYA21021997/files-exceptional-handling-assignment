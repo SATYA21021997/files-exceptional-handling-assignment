{
  "nbformat": 4,
  "nbformat_minor": 0,
  "metadata": {
    "colab": {
      "provenance": []
    },
    "kernelspec": {
      "name": "python3",
      "display_name": "Python 3"
    },
    "language_info": {
      "name": "python"
    }
  },
  "cells": [
    {
      "cell_type": "markdown",
      "source": [
        "ANSWER"
      ],
      "metadata": {
        "id": "o0vuERG_Urzh"
      }
    },
    {
      "cell_type": "markdown",
      "source": [
        "1.  What is the difference between interpreted and compiled languages?"
      ],
      "metadata": {
        "id": "dhB37HdoUwPB"
      }
    },
    {
      "cell_type": "markdown",
      "source": [
        "ANS - In compiled languages, the source code is translated directly into machine code (binary) by a compiler before execution. This machine code can be directly executed by the computer's CPU.\n",
        "In interpreted languages, the source code is read and executed line-by-line by an interpreter at runtime. There is no intermediate machine code."
      ],
      "metadata": {
        "id": "Xf0Fk0lSVIJg"
      }
    },
    {
      "cell_type": "markdown",
      "source": [
        "2.  What is exception handling in Python?"
      ],
      "metadata": {
        "id": "6Px6W78zVNmS"
      }
    },
    {
      "cell_type": "markdown",
      "source": [
        "ANS - What is exception handling in Python\n",
        "Exception handling in Python is a way to manage errors that might occur during the execution of a program. It allows you to handle errors gracefully without crashing the program."
      ],
      "metadata": {
        "id": "Bdnc0SnlVSDi"
      }
    },
    {
      "cell_type": "markdown",
      "source": [
        "3.  What is the purpose of the finally block in exception handling?"
      ],
      "metadata": {
        "id": "9i1W02d_VaJo"
      }
    },
    {
      "cell_type": "markdown",
      "source": [
        "ANS - The finally block in exception handling serves a crucial role by ensuring that specific code is executed regardless of whether an exception occurred or not."
      ],
      "metadata": {
        "id": "fXZAw3fmVfdR"
      }
    },
    {
      "cell_type": "markdown",
      "source": [
        "4.  What is logging in Python?"
      ],
      "metadata": {
        "id": "a_GkC26TVoBo"
      }
    },
    {
      "cell_type": "markdown",
      "source": [
        "ANS - Logging in Python is a means to track events that occur while a program runs. It provides a way to output messages, record errors, warnings, and other information that can be helpful for debugging and monitoring the application's behavior."
      ],
      "metadata": {
        "id": "Lxooydq1Vr4h"
      }
    },
    {
      "cell_type": "markdown",
      "source": [
        "5.  What is the significance of the __del__ method in Python?"
      ],
      "metadata": {
        "id": "bwc6eXV8V0wA"
      }
    },
    {
      "cell_type": "markdown",
      "source": [
        "ANS - The __del__ method in Python, also known as the destructor method, is a special method that's called when an object is about to be destroyed. Its primary purpose is to provide a finalization step for an object before it is garbage collected, allowing you to clean up any resources the object may have been using, such as closing files or releasing network connections."
      ],
      "metadata": {
        "id": "bM04g58yV4rg"
      }
    },
    {
      "cell_type": "markdown",
      "source": [
        "6.  What is the difference between import and from ... import in Python?"
      ],
      "metadata": {
        "id": "Z0gfa3vwWCSy"
      }
    },
    {
      "cell_type": "markdown",
      "source": [
        "ANS - The import statement is used to import an entire module. You then use the module's name to access its functions, classes, and variables.The from ... import statement is used to import specific attributes (functions, classes, variables) directly from a module. This allows you to use them without the module name prefix."
      ],
      "metadata": {
        "id": "tkExTkCeWJXZ"
      }
    },
    {
      "cell_type": "markdown",
      "source": [
        "7.  How can you handle multiple exceptions in Python?"
      ],
      "metadata": {
        "id": "vqVjBRTtWVri"
      }
    },
    {
      "cell_type": "markdown",
      "source": [
        "ANS - In Python, you can handle multiple exceptions by using multiple except blocks or by catching multiple exceptions in a single except block. This provides flexibility and allows you to manage different types of exceptions in different ways."
      ],
      "metadata": {
        "id": "gUfWOLLGWaSA"
      }
    },
    {
      "cell_type": "markdown",
      "source": [
        "8.  What is the purpose of the with statement when handling files in Python?"
      ],
      "metadata": {
        "id": "14cLqX3qWkFR"
      }
    },
    {
      "cell_type": "markdown",
      "source": [
        "ANS - The with statement in Python is used to simplify the management of resources like files. Its primary purpose when handling files is to ensure that the file is properly opened and closed, even if an error occurs. This makes your code cleaner and more reliable."
      ],
      "metadata": {
        "id": "Mlb8MNMwWuA4"
      }
    },
    {
      "cell_type": "markdown",
      "source": [
        "9.  What is the difference between multithreading and multiprocessing?"
      ],
      "metadata": {
        "id": "b_FlB4x5WvVx"
      }
    },
    {
      "cell_type": "markdown",
      "source": [
        "ANS - Multithreading involves running multiple threads (smaller units of a process) within a single process. Threads share the same memory space.Multiprocessing involves running multiple processes, each with its own memory space. Processes are independent of each other."
      ],
      "metadata": {
        "id": "vdlUiArdW03g"
      }
    },
    {
      "cell_type": "markdown",
      "source": [
        "10.  What are the advantages of using logging in a program?"
      ],
      "metadata": {
        "id": "74qbO-4-XAVR"
      }
    },
    {
      "cell_type": "markdown",
      "source": [
        "ANS - Logging is a powerful tool that, when used effectively, can greatly enhance the development, monitoring, and maintenance of software applications."
      ],
      "metadata": {
        "id": "pIxukLIoXHRw"
      }
    },
    {
      "cell_type": "markdown",
      "source": [
        "11.  What is memory management in Python?"
      ],
      "metadata": {
        "id": "8vOQtXoDXSnA"
      }
    },
    {
      "cell_type": "markdown",
      "source": [
        "ANS - Memory management in Python involves the processes and mechanisms used to allocate, manage, and release memory used by Python programs."
      ],
      "metadata": {
        "id": "JdVIzb9NXXgY"
      }
    },
    {
      "cell_type": "markdown",
      "source": [
        "12.  What are the basic steps involved in exception handling in Python?"
      ],
      "metadata": {
        "id": "Z8dYR_a4XfJo"
      }
    },
    {
      "cell_type": "markdown",
      "source": [
        "ANS - In Python, exception handling involves several key steps to manage errors and ensure your program can handle unexpected situations gracefully. These are Try block, Except block, Else block, Finally block."
      ],
      "metadata": {
        "id": "6jWuW5nHXqhY"
      }
    },
    {
      "cell_type": "markdown",
      "source": [
        "13.  Why is memory management important in Python?"
      ],
      "metadata": {
        "id": "i3z_x2ggX_ID"
      }
    },
    {
      "cell_type": "markdown",
      "source": [
        "ANS - Memory management in Python is crucial for optimizing performance, ensuring reliability, enabling scalability, and maintaining security. The language’s automatic garbage collection and reference counting mechanisms provide robust support for efficient memory usage, making development easier and more effective."
      ],
      "metadata": {
        "id": "LdBUG_BCYDC4"
      }
    },
    {
      "cell_type": "markdown",
      "source": [
        "14.  What is the role of try and except in exception handling?"
      ],
      "metadata": {
        "id": "iT7XcK0PYNjo"
      }
    },
    {
      "cell_type": "markdown",
      "source": [
        "ANS - The try block contains the code that might raise an exception. It acts as a safeguard, allowing you to specify which parts of your code to monitor for potential errors.The except block contains the code that runs if an exception occurs within the try block. It allows you to handle specific exceptions and provide a response, such as logging the error or displaying a user-friendly message."
      ],
      "metadata": {
        "id": "IpIp8akXaAL5"
      }
    },
    {
      "cell_type": "markdown",
      "source": [
        "15.  How does Python's garbage collection system work?"
      ],
      "metadata": {
        "id": "85KnS1pKaK_w"
      }
    },
    {
      "cell_type": "markdown",
      "source": [
        "ANS - Python's garbage collection system is designed to automatically manage memory by reclaiming memory that is no longer being used by the program."
      ],
      "metadata": {
        "id": "u_QRHSilaQka"
      }
    },
    {
      "cell_type": "markdown",
      "source": [
        "16.  What is the purpose of the else block in exception handling?"
      ],
      "metadata": {
        "id": "L0LkAYMjaYTQ"
      }
    },
    {
      "cell_type": "markdown",
      "source": [
        "ANS - The else block in exception handling provides a way to execute code that should run only if no exceptions occur in the try block. Its main purpose is to separate the code that should only be executed if the try block succeeds without raising any exceptions."
      ],
      "metadata": {
        "id": "eZA4AfbsajoC"
      }
    },
    {
      "cell_type": "markdown",
      "source": [
        "17.  What are the common logging levels in Python?"
      ],
      "metadata": {
        "id": "AYDZTNrralSR"
      }
    },
    {
      "cell_type": "markdown",
      "source": [
        "ANS - In Python, the logging module defines several standard logging levels that indicate the severity or importance of the log messages. Here are the common logging levels, listed from the least to the most severe: DEBUG,INFO,WARNING,ERROR,CRITICAL"
      ],
      "metadata": {
        "id": "QoWUD7RiavvZ"
      }
    },
    {
      "cell_type": "markdown",
      "source": [
        "18.  What is the difference between os.fork() and multiprocessing in Python?"
      ],
      "metadata": {
        "id": "xhu0OTk3a46B"
      }
    },
    {
      "cell_type": "markdown",
      "source": [
        "ANS - The os.fork() function creates a new process by duplicating the current process. This is a low-level system call provided by Unix-like operating systems.The multiprocessing module is a high-level library that provides a simple interface for creating and managing multiple processes in Python. It abstracts away the low-level details of process creation."
      ],
      "metadata": {
        "id": "Fl34UC9Ga_Qy"
      }
    },
    {
      "cell_type": "markdown",
      "source": [
        "19.  What is the importance of closing a file in Python?"
      ],
      "metadata": {
        "id": "RotgxBQFbLTB"
      }
    },
    {
      "cell_type": "markdown",
      "source": [
        "ANS - Closing a file in Python is crucial for several reasons:Resource Management, Data Integrity, File Locking."
      ],
      "metadata": {
        "id": "a5rW7kfAbU26"
      }
    },
    {
      "cell_type": "markdown",
      "source": [
        "20.  What is the difference between file.read() and file.readline() in Python?"
      ],
      "metadata": {
        "id": "zDao6dM6bf6o"
      }
    },
    {
      "cell_type": "markdown",
      "source": [
        "The file.read() and file.readline() methods in Python are used to read data from files, but they serve different purposes and work in different ways.\n",
        "file.read() - Reads the entire contents of a file or a specified number of bytes.\n",
        "file.readline() - Reads a single line from the file.\n",
        "\n",
        "\n",
        "\n"
      ],
      "metadata": {
        "id": "A2DW7Qeablix"
      }
    },
    {
      "cell_type": "markdown",
      "source": [
        "21.  What is the logging module in Python used for?"
      ],
      "metadata": {
        "id": "P_5xs5iLb3Up"
      }
    },
    {
      "cell_type": "markdown",
      "source": [
        "ANS - The logging module in Python is used to track events that happen while your software runs. Logging provides a way to output diagnostic information, errors, warnings, and other messages to different destinations, such as the console, files, or remote servers."
      ],
      "metadata": {
        "id": "4WgyFYNscEjE"
      }
    },
    {
      "cell_type": "markdown",
      "source": [
        "22.  What is the os module in Python used for in file handling?"
      ],
      "metadata": {
        "id": "7s5Z2NqEcF7A"
      }
    },
    {
      "cell_type": "markdown",
      "source": [
        "ANS - The os module in Python provides a way to interact with the operating system, allowing you to perform various file handling operations."
      ],
      "metadata": {
        "id": "gPxZAu6fcJ74"
      }
    },
    {
      "cell_type": "markdown",
      "source": [
        "23.  What are the challenges associated with memory management in Python?"
      ],
      "metadata": {
        "id": "rZypdL4TcRCZ"
      }
    },
    {
      "cell_type": "markdown",
      "source": [
        "ANS - Memory management in Python, while largely automated, does come with its own set of challenges. Here are some common issues developers might face:\n",
        "\n",
        "1. Reference Cycles\n",
        "2. Memory Leaks\n",
        "3. Fragmentation\n",
        "4. High Memory Usage\n",
        "5. Performance Overheads\n",
        "6. Global Interpreter Lock (GIL)\n",
        "7. Customization and Control\n"
      ],
      "metadata": {
        "id": "vsc9iEPhcV9x"
      }
    },
    {
      "cell_type": "markdown",
      "source": [
        "24.  How do you raise an exception manually in Python?"
      ],
      "metadata": {
        "id": "aruxtiCacsR4"
      }
    },
    {
      "cell_type": "markdown",
      "source": [
        "ANS - To raise an exception manually in Python, you use the raise statement followed by the exception you want to raise. This allows you to trigger exceptions on-demand within your code, which can be useful for validating conditions or handling specific error scenarios."
      ],
      "metadata": {
        "id": "AWs_nH-Zc7SI"
      }
    },
    {
      "cell_type": "markdown",
      "source": [
        "25.  Why is it important to use multithreading in certain applications?\n"
      ],
      "metadata": {
        "id": "2glVdmQmc9Ax"
      }
    },
    {
      "cell_type": "markdown",
      "source": [
        "ANS - Multithreading can be important in certain applications for several reasons, particularly when it comes to improving performance, responsiveness, and efficiency."
      ],
      "metadata": {
        "id": "IJW8-olndCvh"
      }
    },
    {
      "cell_type": "code",
      "source": [],
      "metadata": {
        "id": "PK4Z6EtYdKbR"
      },
      "execution_count": null,
      "outputs": []
    },
    {
      "cell_type": "code",
      "source": [],
      "metadata": {
        "id": "MFWfshvVdLNR"
      },
      "execution_count": null,
      "outputs": []
    },
    {
      "cell_type": "markdown",
      "source": [
        "PRACTICAL QUESTIONS"
      ],
      "metadata": {
        "id": "lSYw5ryfdLpQ"
      }
    },
    {
      "cell_type": "code",
      "source": [],
      "metadata": {
        "id": "10N4rxrFdORJ"
      },
      "execution_count": null,
      "outputs": []
    },
    {
      "cell_type": "code",
      "source": [],
      "metadata": {
        "id": "MTh9VAo0dOjw"
      },
      "execution_count": null,
      "outputs": []
    },
    {
      "cell_type": "markdown",
      "source": [
        "1.  How can you open a file for writing in Python and write a string to it?"
      ],
      "metadata": {
        "id": "xgrJVaq3dPAQ"
      }
    },
    {
      "cell_type": "code",
      "source": [
        "f = open(\"file.txt\", \"w\")\n",
        "f.write(\"This is a string\")\n",
        "f.close()"
      ],
      "metadata": {
        "id": "0VXZFQ-PdoDh"
      },
      "execution_count": 1,
      "outputs": []
    },
    {
      "cell_type": "code",
      "source": [],
      "metadata": {
        "id": "7M8gpfYud3MK"
      },
      "execution_count": null,
      "outputs": []
    },
    {
      "cell_type": "markdown",
      "source": [
        "2.  Write a Python program to read the contents of a file and print each line."
      ],
      "metadata": {
        "id": "oOrs54FAeC0S"
      }
    },
    {
      "cell_type": "code",
      "source": [
        "f = open(\"file.txt\", \"r\")\n",
        "for i in f:\n",
        "  print(i)"
      ],
      "metadata": {
        "colab": {
          "base_uri": "https://localhost:8080/"
        },
        "id": "dIgpWAf2eL9A",
        "outputId": "21e0b1dc-a023-452e-ef24-1cec31d620a3"
      },
      "execution_count": 3,
      "outputs": [
        {
          "output_type": "stream",
          "name": "stdout",
          "text": [
            "This is a string\n"
          ]
        }
      ]
    },
    {
      "cell_type": "code",
      "source": [],
      "metadata": {
        "id": "nF_N8IFmeTXh"
      },
      "execution_count": null,
      "outputs": []
    },
    {
      "cell_type": "markdown",
      "source": [
        " 3. How would you handle a case where the file doesn't exist while trying to open it for reading?"
      ],
      "metadata": {
        "id": "EhDMopvped3g"
      }
    },
    {
      "cell_type": "code",
      "source": [
        "try:\n",
        "    with open('files.txt', 'r') as file:\n",
        "        content = file.read()\n",
        "        print(content)\n",
        "except Exception as e:\n",
        "    print(\"The file does not exist. Please check the file name and try again.\")\n"
      ],
      "metadata": {
        "colab": {
          "base_uri": "https://localhost:8080/"
        },
        "id": "Zri8nTNBeuv_",
        "outputId": "ee57682d-dd45-486f-e570-c58fa0599e0f"
      },
      "execution_count": 5,
      "outputs": [
        {
          "output_type": "stream",
          "name": "stdout",
          "text": [
            "The file does not exist. Please check the file name and try again.\n"
          ]
        }
      ]
    },
    {
      "cell_type": "code",
      "source": [],
      "metadata": {
        "id": "EfPWherWe0ox"
      },
      "execution_count": null,
      "outputs": []
    },
    {
      "cell_type": "markdown",
      "source": [
        "4.  Write a Python script that reads from one file and writes its content to another file."
      ],
      "metadata": {
        "id": "KxzHoIYte-Uq"
      }
    },
    {
      "cell_type": "code",
      "source": [
        "f = open(\"file.txt\", \"r\")\n",
        "for i in f:\n",
        "  f2 = open(\"file2.txt\", \"w\")\n",
        "  f2.write(i)\n",
        "  f2.close()"
      ],
      "metadata": {
        "id": "YIZ9ck74fGb4"
      },
      "execution_count": 7,
      "outputs": []
    },
    {
      "cell_type": "code",
      "source": [],
      "metadata": {
        "id": "2dfQvBcPfej5"
      },
      "execution_count": null,
      "outputs": []
    },
    {
      "cell_type": "markdown",
      "source": [
        "5.  How would you catch and handle division by zero error in Python?"
      ],
      "metadata": {
        "id": "NkZppbdYfnMB"
      }
    },
    {
      "cell_type": "code",
      "source": [
        "try:\n",
        "    numerator = 10\n",
        "    denominator = 0\n",
        "    result = numerator / denominator\n",
        "except ZeroDivisionError:\n",
        "    print(\"Error: Cannot divide by zero!\")\n",
        "else:\n",
        "    print(f\"The result is {result}\")\n"
      ],
      "metadata": {
        "colab": {
          "base_uri": "https://localhost:8080/"
        },
        "id": "IfJrkt1WkYA7",
        "outputId": "ebf4a628-ff07-4c8e-d4e9-84b1d33135a2"
      },
      "execution_count": 8,
      "outputs": [
        {
          "output_type": "stream",
          "name": "stdout",
          "text": [
            "Error: Cannot divide by zero!\n"
          ]
        }
      ]
    },
    {
      "cell_type": "code",
      "source": [],
      "metadata": {
        "id": "_vbQnfd-klB0"
      },
      "execution_count": null,
      "outputs": []
    },
    {
      "cell_type": "markdown",
      "source": [
        "6.  Write a Python program that logs an error message to a log file when a division by zero exception occurs."
      ],
      "metadata": {
        "id": "gplQqbJjkoDQ"
      }
    },
    {
      "cell_type": "code",
      "source": [
        "import logging\n",
        "\n",
        "# Configure the logging system\n",
        "logging.basicConfig(filename='error.log', level=logging.ERROR, format='%(asctime)s - %(levelname)s - %(message)s')\n",
        "\n",
        "def divide_numbers(numerator, denominator):\n",
        "    try:\n",
        "        result = numerator / denominator\n",
        "    except ZeroDivisionError:\n",
        "        logging.error(\"Division by zero error occurred.\")\n",
        "        return None\n",
        "    else:\n",
        "        return result\n",
        "\n",
        "\n",
        "\n"
      ],
      "metadata": {
        "id": "gO6pC8D9kvaC"
      },
      "execution_count": 10,
      "outputs": []
    },
    {
      "cell_type": "code",
      "source": [],
      "metadata": {
        "id": "KtD1mrPHk_ip"
      },
      "execution_count": null,
      "outputs": []
    },
    {
      "cell_type": "markdown",
      "source": [
        "7.  How do you log information at different levels (INFO, ERROR, WARNING) in Python using the logging module?"
      ],
      "metadata": {
        "id": "uEz0AwqhlPRp"
      }
    },
    {
      "cell_type": "code",
      "source": [
        "import logging\n",
        "\n",
        "logging.basicConfig(level=logging.DEBUG, format='%(asctime)s - %(levelname)s - %(message)s')\n",
        "\n",
        "logging.debug(\"This is a debug message.\")\n",
        "logging.info(\"This is an info message.\")\n",
        "logging.warning(\"This is a warning message.\")\n",
        "logging.error(\"This is an error message.\")\n",
        "logging.critical(\"This is a critical message.\")\n"
      ],
      "metadata": {
        "colab": {
          "base_uri": "https://localhost:8080/"
        },
        "id": "hSrQ8N3blW-w",
        "outputId": "27f4bd23-b2f7-4a7c-9c92-1e479561eb11"
      },
      "execution_count": 11,
      "outputs": [
        {
          "output_type": "stream",
          "name": "stderr",
          "text": [
            "WARNING:root:This is a warning message.\n",
            "ERROR:root:This is an error message.\n",
            "CRITICAL:root:This is a critical message.\n"
          ]
        }
      ]
    },
    {
      "cell_type": "code",
      "source": [],
      "metadata": {
        "id": "s4om79jyluCB"
      },
      "execution_count": null,
      "outputs": []
    },
    {
      "cell_type": "markdown",
      "source": [
        "8.  Write a program to handle a file opening error using exception handling."
      ],
      "metadata": {
        "id": "EMA3UukGlzMB"
      }
    },
    {
      "cell_type": "code",
      "source": [
        "def read_file(file_name):\n",
        "    try:\n",
        "        with open(file_name, 'r') as file:\n",
        "            content = file.read()\n",
        "            print(content)\n",
        "    except FileNotFoundError:\n",
        "        print(f\"Error: The file '{file_name}' does not exist. Please check the file name and try again.\")\n",
        "    except IOError:\n",
        "        print(f\"Error: An I/O error occurred while trying to read the file '{file_name}'.\")\n"
      ],
      "metadata": {
        "id": "dMqgl5zVl6EZ"
      },
      "execution_count": 12,
      "outputs": []
    },
    {
      "cell_type": "code",
      "source": [],
      "metadata": {
        "id": "GH_7ich3mDXQ"
      },
      "execution_count": null,
      "outputs": []
    },
    {
      "cell_type": "markdown",
      "source": [
        "9.  How can you read a file line by line and store its content in a list in Python?"
      ],
      "metadata": {
        "id": "jhL3AOZ9mEiS"
      }
    },
    {
      "cell_type": "code",
      "source": [
        "def read_file_to_list(file_name):\n",
        "    lines = []\n",
        "    try:\n",
        "        with open(file_name, 'r') as file:\n",
        "            for line in file:\n",
        "                lines.append(line.strip())  # Use strip() to remove any leading/trailing whitespace\n",
        "    except FileNotFoundError:\n",
        "        print(f\"Error: The file '{file_name}' does not exist. Please check the file name and try again.\")\n",
        "    except IOError:\n",
        "        print(f\"Error: An I/O error occurred while trying to read the file '{file_name}'.\")\n",
        "\n",
        "    return lines\n",
        "\n"
      ],
      "metadata": {
        "id": "6LB3o4OUmNbp"
      },
      "execution_count": 13,
      "outputs": []
    },
    {
      "cell_type": "code",
      "source": [],
      "metadata": {
        "id": "Bp2fZirZmaYE"
      },
      "execution_count": null,
      "outputs": []
    },
    {
      "cell_type": "markdown",
      "source": [
        " 10. How can you append data to an existing file in Python?"
      ],
      "metadata": {
        "id": "GWYlTYSZmi1L"
      }
    },
    {
      "cell_type": "code",
      "source": [
        "def append_to_file(file_name, data):\n",
        "    try:\n",
        "        with open(file_name, 'a') as file:\n",
        "            file.write(data + '\\n')  # Add a newline character for each new line of data\n",
        "        print(\"Data appended successfully.\")\n",
        "    except FileNotFoundError:\n",
        "        print(f\"Error: The file '{file_name}' does not exist. Please check the file name and try again.\")\n",
        "    except IOError:\n",
        "        print(f\"Error: An I/O error occurred while trying to append to the file '{file_name}'.\")\n",
        "\n"
      ],
      "metadata": {
        "id": "CnMYAlNMmlnZ"
      },
      "execution_count": 14,
      "outputs": []
    },
    {
      "cell_type": "code",
      "source": [],
      "metadata": {
        "id": "K-_PE4HfmtX5"
      },
      "execution_count": null,
      "outputs": []
    },
    {
      "cell_type": "markdown",
      "source": [
        "11.  Write a Python program that uses a try-except block to handle an error when attempting to access a\n",
        "dictionary key that doesn't exist."
      ],
      "metadata": {
        "id": "IncwI1nfmub-"
      }
    },
    {
      "cell_type": "code",
      "source": [
        "def get_value_from_dict(dictionary, key):\n",
        "    try:\n",
        "        value = dictionary[key]\n",
        "    except KeyError:\n",
        "        print(f\"Error: The key '{key}' does not exist in the dictionary.\")\n",
        "        value = None\n",
        "    return value\n"
      ],
      "metadata": {
        "id": "AsQlGU0dm0UE"
      },
      "execution_count": null,
      "outputs": []
    },
    {
      "cell_type": "markdown",
      "source": [
        "12.  Write a program that demonstrates using multiple except blocks to handle different types of exceptions."
      ],
      "metadata": {
        "id": "r1HRVM4jnDQd"
      }
    },
    {
      "cell_type": "code",
      "source": [
        "def divide_numbers(numerator, denominator):\n",
        "    try:\n",
        "        result = numerator / denominator\n",
        "    except ZeroDivisionError:\n",
        "        print(\"Error: Cannot divide by zero!\")\n",
        "        result = None\n",
        "    except ValueError:\n",
        "        print(\"Error: Invalid input! Please enter numeric values.\")\n",
        "        result = None\n",
        "    except TypeError:\n",
        "        print(\"Error: Both numerator and denominator must be numbers.\")\n",
        "        result = None\n",
        "    else:\n",
        "        print(f\"The result is {result}\")\n",
        "    finally:\n",
        "        print(\"Division operation completed.\")\n",
        "    return result\n"
      ],
      "metadata": {
        "id": "Tt6RG_AinICB"
      },
      "execution_count": null,
      "outputs": []
    },
    {
      "cell_type": "markdown",
      "source": [
        "13.  How would you check if a file exists before attempting to read it in Python?"
      ],
      "metadata": {
        "id": "atp_o8rRnX3N"
      }
    },
    {
      "cell_type": "code",
      "source": [
        "import os\n",
        "\n",
        "def read_file_if_exists(file_name):\n",
        "    if os.path.exists(file_name):\n",
        "        with open(file_name, 'r') as file:\n",
        "            content = file.read()\n",
        "            print(content)\n",
        "    else:\n",
        "        print(f\"Error: The file '{file_name}' does not exist. Please check the file name and try again.\")\n"
      ],
      "metadata": {
        "id": "QiZ8O-rencf5"
      },
      "execution_count": null,
      "outputs": []
    },
    {
      "cell_type": "markdown",
      "source": [
        "14.  Write a program that uses the logging module to log both informational and error messages."
      ],
      "metadata": {
        "id": "2hbqqdtcnkIr"
      }
    },
    {
      "cell_type": "code",
      "source": [
        "import logging\n",
        "\n",
        "logging.basicConfig(filename='app.log', level=logging.DEBUG, format='%(asctime)s - %(levelname)s - %(message)s')\n",
        "\n",
        "def divide_numbers(numerator, denominator):\n",
        "    try:\n",
        "        result = numerator / denominator\n",
        "    except ZeroDivisionError:\n",
        "        logging.error(\"Attempted to divide by zero.\")\n",
        "        return None\n",
        "    except ValueError:\n",
        "        logging.error(\"Invalid input value. Please enter numeric values.\")\n",
        "        return None\n",
        "    else:\n",
        "        logging.info(f\"Division successful: {numerator} / {denominator} = {result}\")\n",
        "        return result\n",
        "    finally:\n",
        "        logging.info(\"Division operation completed.\")\n"
      ],
      "metadata": {
        "id": "Mm-O-1Z9nqhh"
      },
      "execution_count": 17,
      "outputs": []
    },
    {
      "cell_type": "code",
      "source": [],
      "metadata": {
        "id": "zch9XOX1nxr9"
      },
      "execution_count": null,
      "outputs": []
    },
    {
      "cell_type": "markdown",
      "source": [
        "15.  Write a Python program that prints the content of a file and handles the case when the file is empty."
      ],
      "metadata": {
        "id": "7LYvy42on5Qs"
      }
    },
    {
      "cell_type": "code",
      "source": [
        "def print_file_content(file_name):\n",
        "    try:\n",
        "        with open(file_name, 'r') as file:\n",
        "            content = file.read()\n",
        "            if content:\n",
        "                print(\"File Content:\\n\")\n",
        "                print(content)\n",
        "            else:\n",
        "                print(f\"The file '{file_name}' is empty.\")\n",
        "    except FileNotFoundError:\n",
        "        print(f\"Error: The file '{file_name}' does not exist. Please check the file name and try again.\")\n",
        "    except IOError:\n",
        "        print(f\"Error: An I/O error occurred while trying to read the file '{file_name}'.\")\n",
        "\n",
        "\n"
      ],
      "metadata": {
        "id": "qk-VREFzoE2a"
      },
      "execution_count": 18,
      "outputs": []
    },
    {
      "cell_type": "code",
      "source": [],
      "metadata": {
        "id": "qC6MWjf1oG6M"
      },
      "execution_count": null,
      "outputs": []
    },
    {
      "cell_type": "markdown",
      "source": [
        "16.  Demonstrate how to use memory profiling to check the memory usage of a small program."
      ],
      "metadata": {
        "id": "Te0_u5rdoIXs"
      }
    },
    {
      "cell_type": "code",
      "source": [],
      "metadata": {
        "id": "MNfjAD2YoNLC"
      },
      "execution_count": null,
      "outputs": []
    },
    {
      "cell_type": "markdown",
      "source": [
        "17.  Write a Python program to create and write a list of numbers to a file, one number per line."
      ],
      "metadata": {
        "id": "Tm_Jk9K7oaGE"
      }
    },
    {
      "cell_type": "code",
      "source": [
        "def write_numbers_to_file(file_name, numbers):\n",
        "    try:\n",
        "        with open(file_name, 'w') as file:\n",
        "            for number in numbers:\n",
        "                file.write(f\"{number}\\n\")\n",
        "        print(f\"Numbers successfully written to {file_name}\")\n",
        "    except IOError:\n",
        "        print(f\"Error: An I/O error occurred while trying to write to the file '{file_name}'.\")\n"
      ],
      "metadata": {
        "id": "vuqw9SDUofw6"
      },
      "execution_count": 19,
      "outputs": []
    },
    {
      "cell_type": "code",
      "source": [],
      "metadata": {
        "id": "NwIIIL6qoljD"
      },
      "execution_count": null,
      "outputs": []
    },
    {
      "cell_type": "markdown",
      "source": [
        "18. How would you implement a basic logging setup that logs to a file with rotation after 1MB?"
      ],
      "metadata": {
        "id": "lhPtUgomomnM"
      }
    },
    {
      "cell_type": "code",
      "source": [
        "import logging\n",
        "from logging.handlers import RotatingFileHandler\n",
        "\n",
        "\n",
        "logger = logging.getLogger('MyLogger')\n",
        "logger.setLevel(logging.DEBUG)\n",
        "\n",
        "\n",
        "handler = RotatingFileHandler('app.log', maxBytes=1*1024*1024, backupCount=5)\n",
        "handler.setLevel(logging.DEBUG)\n",
        "\n",
        "\n",
        "formatter = logging.Formatter('%(asctime)s - %(name)s - %(levelname)s - %(message)s')\n",
        "handler.setFormatter(formatter)\n",
        "\n",
        "\n",
        "logger.addHandler(handler)\n",
        "\n",
        "\n",
        "logger.debug(\"This is a debug message.\")\n",
        "logger.info(\"This is an info message.\")\n",
        "logger.warning(\"This is a warning message.\")\n",
        "logger.error(\"This is an error message.\")\n",
        "logger.critical(\"This is a critical message.\")\n"
      ],
      "metadata": {
        "colab": {
          "base_uri": "https://localhost:8080/"
        },
        "id": "Y_EXlYDBor9S",
        "outputId": "bbe6de63-7f9d-4363-8c02-3215012989a7"
      },
      "execution_count": 20,
      "outputs": [
        {
          "output_type": "stream",
          "name": "stderr",
          "text": [
            "DEBUG:MyLogger:This is a debug message.\n",
            "INFO:MyLogger:This is an info message.\n",
            "WARNING:MyLogger:This is a warning message.\n",
            "ERROR:MyLogger:This is an error message.\n",
            "CRITICAL:MyLogger:This is a critical message.\n"
          ]
        }
      ]
    },
    {
      "cell_type": "code",
      "source": [],
      "metadata": {
        "id": "ztZHXCEfo8Vl"
      },
      "execution_count": null,
      "outputs": []
    },
    {
      "cell_type": "markdown",
      "source": [
        "19.  Write a program that handles both IndexError and KeyError using a try-except block."
      ],
      "metadata": {
        "id": "mT63T0C7o_6T"
      }
    },
    {
      "cell_type": "code",
      "source": [
        "def handle_exceptions():\n",
        "    my_list = [1, 2, 3]\n",
        "    my_dict = {'a': 1, 'b': 2, 'c': 3}\n",
        "\n",
        "    try:\n",
        "        print(my_list[5])\n",
        "    except IndexError:\n",
        "        print(\"Error: List index out of range.\")\n",
        "\n",
        "    try:\n",
        "        print(my_dict['d'])\n",
        "    except KeyError:\n",
        "        print(\"Error: Key not found in dictionary.\")\n",
        "\n"
      ],
      "metadata": {
        "id": "N0Y0_4UcpGjh"
      },
      "execution_count": null,
      "outputs": []
    },
    {
      "cell_type": "markdown",
      "source": [
        "20. How would you open a file and read its contents using a context manager in Python?"
      ],
      "metadata": {
        "id": "XQbOBCRppRnV"
      }
    },
    {
      "cell_type": "code",
      "source": [
        "def read_file(file_name):\n",
        "    try:\n",
        "        with open(file_name, 'r') as file:\n",
        "            content = file.read()\n",
        "            print(content)\n",
        "    except FileNotFoundError:\n",
        "        print(f\"Error: The file '{file_name}' does not exist. Please check the file name and try again.\")\n",
        "    except IOError:\n",
        "        print(f\"Error: An I/O error occurred while trying to read the file '{file_name}'.\")\n",
        "\n"
      ],
      "metadata": {
        "id": "RMj7pF_upWm8"
      },
      "execution_count": null,
      "outputs": []
    },
    {
      "cell_type": "markdown",
      "source": [
        "21.  Write a Python program that reads a file and prints the number of occurrences of a specific word."
      ],
      "metadata": {
        "id": "BIhvontvpkmj"
      }
    },
    {
      "cell_type": "code",
      "source": [
        "def count_word_occurrences(file_name, target_word):\n",
        "    try:\n",
        "        with open(file_name, 'r') as file:\n",
        "            content = file.read()\n",
        "            word_count = content.lower().split().count(target_word.lower())\n",
        "            print(f\"The word '{target_word}' occurs {word_count} times in the file '{file_name}'.\")\n",
        "    except FileNotFoundError:\n",
        "        print(f\"Error: The file '{file_name}' does not exist. Please check the file name and try again.\")\n",
        "    except IOError:\n",
        "        print(f\"Error: An I/O error occurred while trying to read the file '{file_name}'.\")\n",
        "\n"
      ],
      "metadata": {
        "id": "4Zx53ZPsposr"
      },
      "execution_count": null,
      "outputs": []
    },
    {
      "cell_type": "markdown",
      "source": [
        "22.  How can you check if a file is empty before attempting to read its contents?"
      ],
      "metadata": {
        "id": "zXVJyAB3pv2l"
      }
    },
    {
      "cell_type": "code",
      "source": [
        "import os\n",
        "\n",
        "def is_file_empty(file_name):\n",
        "    # Check if the file exists first\n",
        "    if os.path.exists(file_name):\n",
        "        # Get the file size\n",
        "        if os.path.getsize(file_name) == 0:\n",
        "            print(f\"The file '{file_name}' is empty.\")\n",
        "            return True\n",
        "        else:\n",
        "            print(f\"The file '{file_name}' is not empty.\")\n",
        "            return False\n",
        "    else:\n",
        "        print(f\"Error: The file '{file_name}' does not exist.\")\n",
        "        return None\n"
      ],
      "metadata": {
        "id": "b78aY2MZp4Cq"
      },
      "execution_count": null,
      "outputs": []
    },
    {
      "cell_type": "markdown",
      "source": [
        "23.  Write a Python program that writes to a log file when an error occurs during file handling.\n"
      ],
      "metadata": {
        "id": "vtKRVJeip9_0"
      }
    },
    {
      "cell_type": "code",
      "source": [
        "import logging\n",
        "\n",
        "logging.basicConfig(filename='file_handling.log', level=logging.ERROR, format='%(asctime)s - %(levelname)s - %(message)s')\n",
        "\n",
        "def read_file(file_name):\n",
        "    try:\n",
        "        with open(file_name, 'r') as file:\n",
        "            content = file.read()\n",
        "            print(content)\n",
        "    except FileNotFoundError:\n",
        "        logging.error(f\"The file '{file_name}' does not exist.\")\n",
        "        print(f\"Error: The file '{file_name}' does not exist.\")\n",
        "    except IOError:\n",
        "        logging.error(f\"An I/O error occurred while trying to read the file '{file_name}'.\")\n",
        "        print(f\"Error: An I/O error occurred while trying to read the file '{file_name}'.\")\n",
        "\n",
        "def write_to_file(file_name, content):\n",
        "    try:\n",
        "        with open(file_name, 'w') as file:\n",
        "            file.write(content)\n",
        "        print(f\"Content successfully written to '{file_name}'\")\n",
        "    except IOError:\n",
        "        logging.error(f\"An I/O error occurred while trying to write to the file '{file_name}'.\")\n",
        "        print(f\"Error: An I/O error occurred while trying to write to the file '{file_name}'.\")\n",
        "\n"
      ],
      "metadata": {
        "id": "y2a7lvC8qBTb"
      },
      "execution_count": null,
      "outputs": []
    }
  ]
}